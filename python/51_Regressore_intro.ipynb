{
 "cells": [
  {
   "cell_type": "code",
   "execution_count": null,
   "metadata": {
    "colab": {
     "base_uri": "https://localhost:8080/",
     "height": 73,
     "resources": {
      "http://localhost:8080/nbextensions/google.colab/files.js": {
       "data": "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",
       "headers": [
        [
         "content-type",
         "application/javascript"
        ]
       ],
       "ok": true,
       "status": 200,
       "status_text": ""
      }
     }
    },
    "executionInfo": {
     "elapsed": 85402,
     "status": "ok",
     "timestamp": 1608064217370,
     "user": {
      "displayName": "T3Lab Vision",
      "photoUrl": "",
      "userId": "14779383426442114373"
     },
     "user_tz": -60
    },
    "id": "yCEWmu8O9L-z",
    "outputId": "8b0f9610-5ea1-472e-ca40-d71020bb47f5"
   },
   "outputs": [
    {
     "data": {
      "text/html": [
       "\n",
       "     <input type=\"file\" id=\"files-7174b2a4-aaca-41c3-8228-82e01e113ef7\" name=\"files[]\" multiple disabled\n",
       "        style=\"border:none\" />\n",
       "     <output id=\"result-7174b2a4-aaca-41c3-8228-82e01e113ef7\">\n",
       "      Upload widget is only available when the cell has been executed in the\n",
       "      current browser session. Please rerun this cell to enable.\n",
       "      </output>\n",
       "      <script src=\"/nbextensions/google.colab/files.js\"></script> "
      ],
      "text/plain": [
       "<IPython.core.display.HTML object>"
      ]
     },
     "metadata": {
      "tags": []
     },
     "output_type": "display_data"
    },
    {
     "name": "stdout",
     "output_type": "stream",
     "text": [
      "Saving dati.xlsx to dati.xlsx\n"
     ]
    }
   ],
   "source": [
    "from google.colab import files\n",
    "uploaded = files.upload()"
   ]
  },
  {
   "cell_type": "code",
   "execution_count": null,
   "metadata": {
    "colab": {
     "base_uri": "https://localhost:8080/"
    },
    "executionInfo": {
     "elapsed": 930,
     "status": "ok",
     "timestamp": 1608064218341,
     "user": {
      "displayName": "T3Lab Vision",
      "photoUrl": "",
      "userId": "14779383426442114373"
     },
     "user_tz": -60
    },
    "id": "4JgKtqdGKrTn",
    "outputId": "05b56df2-9783-4bff-f021-4697024400d9"
   },
   "outputs": [
    {
     "name": "stdout",
     "output_type": "stream",
     "text": [
      "dati.xlsx  sample_data\n"
     ]
    }
   ],
   "source": [
    "!ls"
   ]
  },
  {
   "cell_type": "code",
   "execution_count": 1,
   "metadata": {
    "id": "ZZGD43I4oNkZ"
   },
   "outputs": [],
   "source": [
    "import pandas as pd\n",
    "import seaborn as sns\n",
    "import matplotlib.pyplot as plt"
   ]
  },
  {
   "cell_type": "code",
   "execution_count": 3,
   "metadata": {
    "executionInfo": {
     "elapsed": 7581,
     "status": "ok",
     "timestamp": 1608065090005,
     "user": {
      "displayName": "T3Lab Vision",
      "photoUrl": "",
      "userId": "14779383426442114373"
     },
     "user_tz": -60
    },
    "id": "gIFYfeBVoWtp"
   },
   "outputs": [],
   "source": [
    "data = pd.read_excel('dati.xlsx')"
   ]
  },
  {
   "cell_type": "code",
   "execution_count": 4,
   "metadata": {
    "colab": {
     "base_uri": "https://localhost:8080/",
     "height": 252
    },
    "executionInfo": {
     "elapsed": 571,
     "status": "ok",
     "timestamp": 1608065101748,
     "user": {
      "displayName": "T3Lab Vision",
      "photoUrl": "",
      "userId": "14779383426442114373"
     },
     "user_tz": -60
    },
    "id": "VmPddp2YoiY3",
    "outputId": "fa3642ed-c9c0-4fed-c150-056ff541e1b2"
   },
   "outputs": [
    {
     "data": {
      "text/html": [
       "<div>\n",
       "<style scoped>\n",
       "    .dataframe tbody tr th:only-of-type {\n",
       "        vertical-align: middle;\n",
       "    }\n",
       "\n",
       "    .dataframe tbody tr th {\n",
       "        vertical-align: top;\n",
       "    }\n",
       "\n",
       "    .dataframe thead th {\n",
       "        text-align: right;\n",
       "    }\n",
       "</style>\n",
       "<table border=\"1\" class=\"dataframe\">\n",
       "  <thead>\n",
       "    <tr style=\"text-align: right;\">\n",
       "      <th></th>\n",
       "      <th>var1</th>\n",
       "      <th>var2</th>\n",
       "      <th>var6</th>\n",
       "      <th>var7</th>\n",
       "      <th>var8</th>\n",
       "      <th>var9</th>\n",
       "      <th>var10</th>\n",
       "      <th>var11</th>\n",
       "      <th>var12</th>\n",
       "      <th>var13</th>\n",
       "      <th>...</th>\n",
       "      <th>var150</th>\n",
       "      <th>var151</th>\n",
       "      <th>var152</th>\n",
       "      <th>var153</th>\n",
       "      <th>var154</th>\n",
       "      <th>var155</th>\n",
       "      <th>var156</th>\n",
       "      <th>var157</th>\n",
       "      <th>var158</th>\n",
       "      <th>costi</th>\n",
       "    </tr>\n",
       "  </thead>\n",
       "  <tbody>\n",
       "    <tr>\n",
       "      <th>0</th>\n",
       "      <td>147823139</td>\n",
       "      <td>148193655</td>\n",
       "      <td>51344312</td>\n",
       "      <td>61401789</td>\n",
       "      <td>71387976</td>\n",
       "      <td>23064675</td>\n",
       "      <td>20882011</td>\n",
       "      <td>14244395</td>\n",
       "      <td>2794279</td>\n",
       "      <td>2677799</td>\n",
       "      <td>...</td>\n",
       "      <td>229</td>\n",
       "      <td>214</td>\n",
       "      <td>207</td>\n",
       "      <td>84978</td>\n",
       "      <td>318158</td>\n",
       "      <td>318158</td>\n",
       "      <td>25290616</td>\n",
       "      <td>24108358</td>\n",
       "      <td>24535319</td>\n",
       "      <td>144205134</td>\n",
       "    </tr>\n",
       "    <tr>\n",
       "      <th>1</th>\n",
       "      <td>147562322</td>\n",
       "      <td>163251010</td>\n",
       "      <td>1037776</td>\n",
       "      <td>1391301</td>\n",
       "      <td>1602930</td>\n",
       "      <td>23503659</td>\n",
       "      <td>22973259</td>\n",
       "      <td>20946238</td>\n",
       "      <td>13368527</td>\n",
       "      <td>12404318</td>\n",
       "      <td>...</td>\n",
       "      <td>454</td>\n",
       "      <td>411</td>\n",
       "      <td>456</td>\n",
       "      <td>1583</td>\n",
       "      <td>1583</td>\n",
       "      <td>1588</td>\n",
       "      <td>14133394</td>\n",
       "      <td>10404117</td>\n",
       "      <td>12898505</td>\n",
       "      <td>140165127</td>\n",
       "    </tr>\n",
       "    <tr>\n",
       "      <th>2</th>\n",
       "      <td>147562000</td>\n",
       "      <td>142652000</td>\n",
       "      <td>737000</td>\n",
       "      <td>707000</td>\n",
       "      <td>745000</td>\n",
       "      <td>51250000</td>\n",
       "      <td>51604000</td>\n",
       "      <td>50992000</td>\n",
       "      <td>23900000</td>\n",
       "      <td>25404000</td>\n",
       "      <td>...</td>\n",
       "      <td>116</td>\n",
       "      <td>165</td>\n",
       "      <td>168</td>\n",
       "      <td>1801000</td>\n",
       "      <td>1761000</td>\n",
       "      <td>1171000</td>\n",
       "      <td>31861000</td>\n",
       "      <td>22494000</td>\n",
       "      <td>24687000</td>\n",
       "      <td>145190000</td>\n",
       "    </tr>\n",
       "    <tr>\n",
       "      <th>3</th>\n",
       "      <td>147067625</td>\n",
       "      <td>140160124</td>\n",
       "      <td>39316</td>\n",
       "      <td>5715</td>\n",
       "      <td>8015</td>\n",
       "      <td>5258584</td>\n",
       "      <td>5491288</td>\n",
       "      <td>5735791</td>\n",
       "      <td>4183889</td>\n",
       "      <td>4354175</td>\n",
       "      <td>...</td>\n",
       "      <td>60</td>\n",
       "      <td>60</td>\n",
       "      <td>65</td>\n",
       "      <td>890646</td>\n",
       "      <td>0</td>\n",
       "      <td>0</td>\n",
       "      <td>1000000</td>\n",
       "      <td>0</td>\n",
       "      <td>1188439</td>\n",
       "      <td>112760368</td>\n",
       "    </tr>\n",
       "    <tr>\n",
       "      <th>4</th>\n",
       "      <td>145273739</td>\n",
       "      <td>127413305</td>\n",
       "      <td>6571906</td>\n",
       "      <td>3613836</td>\n",
       "      <td>3218188</td>\n",
       "      <td>65670888</td>\n",
       "      <td>56917531</td>\n",
       "      <td>51856050</td>\n",
       "      <td>20251827</td>\n",
       "      <td>20965972</td>\n",
       "      <td>...</td>\n",
       "      <td>171</td>\n",
       "      <td>141</td>\n",
       "      <td>132</td>\n",
       "      <td>0</td>\n",
       "      <td>0</td>\n",
       "      <td>0</td>\n",
       "      <td>27325115</td>\n",
       "      <td>24037285</td>\n",
       "      <td>24492237</td>\n",
       "      <td>171980718</td>\n",
       "    </tr>\n",
       "  </tbody>\n",
       "</table>\n",
       "<p>5 rows × 135 columns</p>\n",
       "</div>"
      ],
      "text/plain": [
       "        var1       var2      var6      var7      var8      var9     var10  \\\n",
       "0  147823139  148193655  51344312  61401789  71387976  23064675  20882011   \n",
       "1  147562322  163251010   1037776   1391301   1602930  23503659  22973259   \n",
       "2  147562000  142652000    737000    707000    745000  51250000  51604000   \n",
       "3  147067625  140160124     39316      5715      8015   5258584   5491288   \n",
       "4  145273739  127413305   6571906   3613836   3218188  65670888  56917531   \n",
       "\n",
       "      var11     var12     var13  ...  var150  var151  var152   var153  \\\n",
       "0  14244395   2794279   2677799  ...     229     214     207    84978   \n",
       "1  20946238  13368527  12404318  ...     454     411     456     1583   \n",
       "2  50992000  23900000  25404000  ...     116     165     168  1801000   \n",
       "3   5735791   4183889   4354175  ...      60      60      65   890646   \n",
       "4  51856050  20251827  20965972  ...     171     141     132        0   \n",
       "\n",
       "    var154   var155    var156    var157    var158      costi  \n",
       "0   318158   318158  25290616  24108358  24535319  144205134  \n",
       "1     1583     1588  14133394  10404117  12898505  140165127  \n",
       "2  1761000  1171000  31861000  22494000  24687000  145190000  \n",
       "3        0        0   1000000         0   1188439  112760368  \n",
       "4        0        0  27325115  24037285  24492237  171980718  \n",
       "\n",
       "[5 rows x 135 columns]"
      ]
     },
     "execution_count": 4,
     "metadata": {},
     "output_type": "execute_result"
    }
   ],
   "source": [
    "data.head()"
   ]
  },
  {
   "cell_type": "code",
   "execution_count": 5,
   "metadata": {
    "colab": {
     "base_uri": "https://localhost:8080/"
    },
    "executionInfo": {
     "elapsed": 372,
     "status": "ok",
     "timestamp": 1608065102695,
     "user": {
      "displayName": "T3Lab Vision",
      "photoUrl": "",
      "userId": "14779383426442114373"
     },
     "user_tz": -60
    },
    "id": "y7lKYmPJosmy",
    "outputId": "0a0bd808-3fe7-4ee4-d102-b920c20283ef"
   },
   "outputs": [
    {
     "name": "stdout",
     "output_type": "stream",
     "text": [
      "<class 'pandas.core.frame.DataFrame'>\n",
      "RangeIndex: 7479 entries, 0 to 7478\n",
      "Columns: 135 entries, var1 to costi\n",
      "dtypes: int64(135)\n",
      "memory usage: 7.7 MB\n"
     ]
    }
   ],
   "source": [
    "data.info()"
   ]
  },
  {
   "cell_type": "code",
   "execution_count": 6,
   "metadata": {
    "colab": {
     "base_uri": "https://localhost:8080/",
     "height": 345
    },
    "executionInfo": {
     "elapsed": 900,
     "status": "ok",
     "timestamp": 1608065104175,
     "user": {
      "displayName": "T3Lab Vision",
      "photoUrl": "",
      "userId": "14779383426442114373"
     },
     "user_tz": -60
    },
    "id": "oDcbdjEhF6i2",
    "outputId": "a884eb36-2c59-44d4-91e4-d37e067deb9f"
   },
   "outputs": [
    {
     "data": {
      "text/html": [
       "<div>\n",
       "<style scoped>\n",
       "    .dataframe tbody tr th:only-of-type {\n",
       "        vertical-align: middle;\n",
       "    }\n",
       "\n",
       "    .dataframe tbody tr th {\n",
       "        vertical-align: top;\n",
       "    }\n",
       "\n",
       "    .dataframe thead th {\n",
       "        text-align: right;\n",
       "    }\n",
       "</style>\n",
       "<table border=\"1\" class=\"dataframe\">\n",
       "  <thead>\n",
       "    <tr style=\"text-align: right;\">\n",
       "      <th></th>\n",
       "      <th>var1</th>\n",
       "      <th>var2</th>\n",
       "      <th>var6</th>\n",
       "      <th>var7</th>\n",
       "      <th>var8</th>\n",
       "      <th>var9</th>\n",
       "      <th>var10</th>\n",
       "      <th>var11</th>\n",
       "      <th>var12</th>\n",
       "      <th>var13</th>\n",
       "      <th>...</th>\n",
       "      <th>var150</th>\n",
       "      <th>var151</th>\n",
       "      <th>var152</th>\n",
       "      <th>var153</th>\n",
       "      <th>var154</th>\n",
       "      <th>var155</th>\n",
       "      <th>var156</th>\n",
       "      <th>var157</th>\n",
       "      <th>var158</th>\n",
       "      <th>costi</th>\n",
       "    </tr>\n",
       "  </thead>\n",
       "  <tbody>\n",
       "    <tr>\n",
       "      <th>count</th>\n",
       "      <td>7.479000e+03</td>\n",
       "      <td>7.479000e+03</td>\n",
       "      <td>7.479000e+03</td>\n",
       "      <td>7.479000e+03</td>\n",
       "      <td>7.479000e+03</td>\n",
       "      <td>7.479000e+03</td>\n",
       "      <td>7.479000e+03</td>\n",
       "      <td>7.479000e+03</td>\n",
       "      <td>7.479000e+03</td>\n",
       "      <td>7.479000e+03</td>\n",
       "      <td>...</td>\n",
       "      <td>7479.000000</td>\n",
       "      <td>7479.000000</td>\n",
       "      <td>7479.000000</td>\n",
       "      <td>7.479000e+03</td>\n",
       "      <td>7.479000e+03</td>\n",
       "      <td>7.479000e+03</td>\n",
       "      <td>7.479000e+03</td>\n",
       "      <td>7.479000e+03</td>\n",
       "      <td>7.479000e+03</td>\n",
       "      <td>7.479000e+03</td>\n",
       "    </tr>\n",
       "    <tr>\n",
       "      <th>mean</th>\n",
       "      <td>7.450131e+06</td>\n",
       "      <td>6.995936e+06</td>\n",
       "      <td>3.377709e+05</td>\n",
       "      <td>2.954539e+05</td>\n",
       "      <td>2.374321e+05</td>\n",
       "      <td>2.080609e+06</td>\n",
       "      <td>1.977554e+06</td>\n",
       "      <td>1.866474e+06</td>\n",
       "      <td>9.678114e+05</td>\n",
       "      <td>9.397979e+05</td>\n",
       "      <td>...</td>\n",
       "      <td>21.127958</td>\n",
       "      <td>20.665062</td>\n",
       "      <td>19.299773</td>\n",
       "      <td>6.772403e+04</td>\n",
       "      <td>6.175881e+04</td>\n",
       "      <td>6.265347e+04</td>\n",
       "      <td>1.076427e+06</td>\n",
       "      <td>9.915747e+05</td>\n",
       "      <td>9.137636e+05</td>\n",
       "      <td>7.633431e+06</td>\n",
       "    </tr>\n",
       "    <tr>\n",
       "      <th>std</th>\n",
       "      <td>1.646081e+07</td>\n",
       "      <td>1.588951e+07</td>\n",
       "      <td>6.690769e+06</td>\n",
       "      <td>5.441119e+06</td>\n",
       "      <td>2.622168e+06</td>\n",
       "      <td>5.869370e+06</td>\n",
       "      <td>5.642296e+06</td>\n",
       "      <td>5.481200e+06</td>\n",
       "      <td>3.769399e+06</td>\n",
       "      <td>3.708256e+06</td>\n",
       "      <td>...</td>\n",
       "      <td>46.321574</td>\n",
       "      <td>46.255558</td>\n",
       "      <td>44.001820</td>\n",
       "      <td>4.963626e+05</td>\n",
       "      <td>4.301135e+05</td>\n",
       "      <td>3.964864e+05</td>\n",
       "      <td>4.537630e+06</td>\n",
       "      <td>3.720963e+06</td>\n",
       "      <td>3.141080e+06</td>\n",
       "      <td>1.683081e+07</td>\n",
       "    </tr>\n",
       "    <tr>\n",
       "      <th>min</th>\n",
       "      <td>4.150000e+02</td>\n",
       "      <td>0.000000e+00</td>\n",
       "      <td>0.000000e+00</td>\n",
       "      <td>0.000000e+00</td>\n",
       "      <td>0.000000e+00</td>\n",
       "      <td>0.000000e+00</td>\n",
       "      <td>0.000000e+00</td>\n",
       "      <td>0.000000e+00</td>\n",
       "      <td>0.000000e+00</td>\n",
       "      <td>0.000000e+00</td>\n",
       "      <td>...</td>\n",
       "      <td>0.000000</td>\n",
       "      <td>0.000000</td>\n",
       "      <td>0.000000</td>\n",
       "      <td>0.000000e+00</td>\n",
       "      <td>0.000000e+00</td>\n",
       "      <td>0.000000e+00</td>\n",
       "      <td>0.000000e+00</td>\n",
       "      <td>0.000000e+00</td>\n",
       "      <td>0.000000e+00</td>\n",
       "      <td>0.000000e+00</td>\n",
       "    </tr>\n",
       "    <tr>\n",
       "      <th>25%</th>\n",
       "      <td>5.184700e+05</td>\n",
       "      <td>4.002950e+05</td>\n",
       "      <td>6.975000e+02</td>\n",
       "      <td>7.300000e+02</td>\n",
       "      <td>3.775000e+02</td>\n",
       "      <td>6.432050e+04</td>\n",
       "      <td>5.949900e+04</td>\n",
       "      <td>3.985650e+04</td>\n",
       "      <td>0.000000e+00</td>\n",
       "      <td>0.000000e+00</td>\n",
       "      <td>...</td>\n",
       "      <td>4.000000</td>\n",
       "      <td>4.000000</td>\n",
       "      <td>3.000000</td>\n",
       "      <td>0.000000e+00</td>\n",
       "      <td>0.000000e+00</td>\n",
       "      <td>0.000000e+00</td>\n",
       "      <td>0.000000e+00</td>\n",
       "      <td>0.000000e+00</td>\n",
       "      <td>0.000000e+00</td>\n",
       "      <td>5.438740e+05</td>\n",
       "    </tr>\n",
       "    <tr>\n",
       "      <th>50%</th>\n",
       "      <td>1.695363e+06</td>\n",
       "      <td>1.533985e+06</td>\n",
       "      <td>1.381500e+04</td>\n",
       "      <td>1.238800e+04</td>\n",
       "      <td>9.955000e+03</td>\n",
       "      <td>3.347110e+05</td>\n",
       "      <td>3.155580e+05</td>\n",
       "      <td>2.630320e+05</td>\n",
       "      <td>0.000000e+00</td>\n",
       "      <td>0.000000e+00</td>\n",
       "      <td>...</td>\n",
       "      <td>10.000000</td>\n",
       "      <td>9.000000</td>\n",
       "      <td>9.000000</td>\n",
       "      <td>0.000000e+00</td>\n",
       "      <td>0.000000e+00</td>\n",
       "      <td>0.000000e+00</td>\n",
       "      <td>1.145440e+05</td>\n",
       "      <td>1.071490e+05</td>\n",
       "      <td>8.262500e+04</td>\n",
       "      <td>1.760361e+06</td>\n",
       "    </tr>\n",
       "    <tr>\n",
       "      <th>75%</th>\n",
       "      <td>6.050798e+06</td>\n",
       "      <td>5.594102e+06</td>\n",
       "      <td>8.305000e+04</td>\n",
       "      <td>7.726200e+04</td>\n",
       "      <td>6.841050e+04</td>\n",
       "      <td>1.514472e+06</td>\n",
       "      <td>1.470158e+06</td>\n",
       "      <td>1.357036e+06</td>\n",
       "      <td>1.525510e+05</td>\n",
       "      <td>1.505230e+05</td>\n",
       "      <td>...</td>\n",
       "      <td>20.000000</td>\n",
       "      <td>20.000000</td>\n",
       "      <td>19.000000</td>\n",
       "      <td>3.167000e+03</td>\n",
       "      <td>3.810500e+03</td>\n",
       "      <td>4.782000e+03</td>\n",
       "      <td>6.487320e+05</td>\n",
       "      <td>6.149110e+05</td>\n",
       "      <td>5.736580e+05</td>\n",
       "      <td>6.073618e+06</td>\n",
       "    </tr>\n",
       "    <tr>\n",
       "      <th>max</th>\n",
       "      <td>1.478231e+08</td>\n",
       "      <td>1.954054e+08</td>\n",
       "      <td>3.949990e+08</td>\n",
       "      <td>4.236760e+08</td>\n",
       "      <td>1.218370e+08</td>\n",
       "      <td>1.822085e+08</td>\n",
       "      <td>1.819357e+08</td>\n",
       "      <td>1.819572e+08</td>\n",
       "      <td>1.814344e+08</td>\n",
       "      <td>1.814863e+08</td>\n",
       "      <td>...</td>\n",
       "      <td>1384.000000</td>\n",
       "      <td>1307.000000</td>\n",
       "      <td>1244.000000</td>\n",
       "      <td>1.943005e+07</td>\n",
       "      <td>1.777804e+07</td>\n",
       "      <td>1.662483e+07</td>\n",
       "      <td>2.025610e+08</td>\n",
       "      <td>1.872810e+08</td>\n",
       "      <td>1.169022e+08</td>\n",
       "      <td>1.754113e+08</td>\n",
       "    </tr>\n",
       "  </tbody>\n",
       "</table>\n",
       "<p>8 rows × 135 columns</p>\n",
       "</div>"
      ],
      "text/plain": [
       "               var1          var2          var6          var7          var8  \\\n",
       "count  7.479000e+03  7.479000e+03  7.479000e+03  7.479000e+03  7.479000e+03   \n",
       "mean   7.450131e+06  6.995936e+06  3.377709e+05  2.954539e+05  2.374321e+05   \n",
       "std    1.646081e+07  1.588951e+07  6.690769e+06  5.441119e+06  2.622168e+06   \n",
       "min    4.150000e+02  0.000000e+00  0.000000e+00  0.000000e+00  0.000000e+00   \n",
       "25%    5.184700e+05  4.002950e+05  6.975000e+02  7.300000e+02  3.775000e+02   \n",
       "50%    1.695363e+06  1.533985e+06  1.381500e+04  1.238800e+04  9.955000e+03   \n",
       "75%    6.050798e+06  5.594102e+06  8.305000e+04  7.726200e+04  6.841050e+04   \n",
       "max    1.478231e+08  1.954054e+08  3.949990e+08  4.236760e+08  1.218370e+08   \n",
       "\n",
       "               var9         var10         var11         var12         var13  \\\n",
       "count  7.479000e+03  7.479000e+03  7.479000e+03  7.479000e+03  7.479000e+03   \n",
       "mean   2.080609e+06  1.977554e+06  1.866474e+06  9.678114e+05  9.397979e+05   \n",
       "std    5.869370e+06  5.642296e+06  5.481200e+06  3.769399e+06  3.708256e+06   \n",
       "min    0.000000e+00  0.000000e+00  0.000000e+00  0.000000e+00  0.000000e+00   \n",
       "25%    6.432050e+04  5.949900e+04  3.985650e+04  0.000000e+00  0.000000e+00   \n",
       "50%    3.347110e+05  3.155580e+05  2.630320e+05  0.000000e+00  0.000000e+00   \n",
       "75%    1.514472e+06  1.470158e+06  1.357036e+06  1.525510e+05  1.505230e+05   \n",
       "max    1.822085e+08  1.819357e+08  1.819572e+08  1.814344e+08  1.814863e+08   \n",
       "\n",
       "       ...       var150       var151       var152        var153        var154  \\\n",
       "count  ...  7479.000000  7479.000000  7479.000000  7.479000e+03  7.479000e+03   \n",
       "mean   ...    21.127958    20.665062    19.299773  6.772403e+04  6.175881e+04   \n",
       "std    ...    46.321574    46.255558    44.001820  4.963626e+05  4.301135e+05   \n",
       "min    ...     0.000000     0.000000     0.000000  0.000000e+00  0.000000e+00   \n",
       "25%    ...     4.000000     4.000000     3.000000  0.000000e+00  0.000000e+00   \n",
       "50%    ...    10.000000     9.000000     9.000000  0.000000e+00  0.000000e+00   \n",
       "75%    ...    20.000000    20.000000    19.000000  3.167000e+03  3.810500e+03   \n",
       "max    ...  1384.000000  1307.000000  1244.000000  1.943005e+07  1.777804e+07   \n",
       "\n",
       "             var155        var156        var157        var158         costi  \n",
       "count  7.479000e+03  7.479000e+03  7.479000e+03  7.479000e+03  7.479000e+03  \n",
       "mean   6.265347e+04  1.076427e+06  9.915747e+05  9.137636e+05  7.633431e+06  \n",
       "std    3.964864e+05  4.537630e+06  3.720963e+06  3.141080e+06  1.683081e+07  \n",
       "min    0.000000e+00  0.000000e+00  0.000000e+00  0.000000e+00  0.000000e+00  \n",
       "25%    0.000000e+00  0.000000e+00  0.000000e+00  0.000000e+00  5.438740e+05  \n",
       "50%    0.000000e+00  1.145440e+05  1.071490e+05  8.262500e+04  1.760361e+06  \n",
       "75%    4.782000e+03  6.487320e+05  6.149110e+05  5.736580e+05  6.073618e+06  \n",
       "max    1.662483e+07  2.025610e+08  1.872810e+08  1.169022e+08  1.754113e+08  \n",
       "\n",
       "[8 rows x 135 columns]"
      ]
     },
     "execution_count": 6,
     "metadata": {},
     "output_type": "execute_result"
    }
   ],
   "source": [
    "data.describe()"
   ]
  },
  {
   "cell_type": "code",
   "execution_count": 12,
   "metadata": {
    "executionInfo": {
     "elapsed": 587,
     "status": "ok",
     "timestamp": 1608065105592,
     "user": {
      "displayName": "T3Lab Vision",
      "photoUrl": "",
      "userId": "14779383426442114373"
     },
     "user_tz": -60
    },
    "id": "jcHgE3IDovKT"
   },
   "outputs": [],
   "source": [
    "X = data.iloc[:,0:-1] # Features\n",
    "\n",
    "y = data.iloc[:,-1]     # Target\n",
    "#or\n",
    "y = data['costi']"
   ]
  },
  {
   "cell_type": "code",
   "execution_count": 8,
   "metadata": {
    "colab": {
     "base_uri": "https://localhost:8080/"
    },
    "executionInfo": {
     "elapsed": 586,
     "status": "ok",
     "timestamp": 1608065111757,
     "user": {
      "displayName": "T3Lab Vision",
      "photoUrl": "",
      "userId": "14779383426442114373"
     },
     "user_tz": -60
    },
    "id": "zaPZNhc-peVe",
    "outputId": "21336f89-6eb3-43d7-c07f-a3462bd3f41a"
   },
   "outputs": [
    {
     "data": {
      "text/plain": [
       "(7479, 134)"
      ]
     },
     "execution_count": 8,
     "metadata": {},
     "output_type": "execute_result"
    }
   ],
   "source": [
    "X.shape"
   ]
  },
  {
   "cell_type": "code",
   "execution_count": 9,
   "metadata": {
    "colab": {
     "base_uri": "https://localhost:8080/"
    },
    "executionInfo": {
     "elapsed": 453,
     "status": "ok",
     "timestamp": 1608065112866,
     "user": {
      "displayName": "T3Lab Vision",
      "photoUrl": "",
      "userId": "14779383426442114373"
     },
     "user_tz": -60
    },
    "id": "Ses2mqM7ph0g",
    "outputId": "c3aac0d2-f202-4934-bb73-ed946ac373b2"
   },
   "outputs": [
    {
     "data": {
      "text/plain": [
       "(7479,)"
      ]
     },
     "execution_count": 9,
     "metadata": {},
     "output_type": "execute_result"
    }
   ],
   "source": [
    "y.shape"
   ]
  },
  {
   "cell_type": "code",
   "execution_count": 13,
   "metadata": {
    "colab": {
     "base_uri": "https://localhost:8080/"
    },
    "executionInfo": {
     "elapsed": 783,
     "status": "ok",
     "timestamp": 1608064313355,
     "user": {
      "displayName": "T3Lab Vision",
      "photoUrl": "",
      "userId": "14779383426442114373"
     },
     "user_tz": -60
    },
    "id": "Ut13E5QYpj96",
    "outputId": "7e4528d5-a924-4239-d568-d188ea1bf60e"
   },
   "outputs": [
    {
     "name": "stdout",
     "output_type": "stream",
     "text": [
      "(5235, 134) (2244, 134) (5235,) (2244,)\n"
     ]
    }
   ],
   "source": [
    "# Split the data into a training set and a test set\n",
    "from sklearn.model_selection import train_test_split\n",
    "X_train, X_test, y_train, y_test = train_test_split(X, y, test_size=0.3, random_state=0)\n",
    "\n",
    "print(X_train.shape, X_test.shape, y_train.shape, y_test.shape)"
   ]
  },
  {
   "cell_type": "code",
   "execution_count": 16,
   "metadata": {
    "colab": {
     "base_uri": "https://localhost:8080/"
    },
    "executionInfo": {
     "elapsed": 903,
     "status": "ok",
     "timestamp": 1608064353443,
     "user": {
      "displayName": "T3Lab Vision",
      "photoUrl": "",
      "userId": "14779383426442114373"
     },
     "user_tz": -60
    },
    "id": "Q8ExvNNkpoxr",
    "outputId": "050b7cff-79c9-4423-cce3-b7b5773cd5e4"
   },
   "outputs": [],
   "source": [
    "from sklearn.linear_model import LinearRegression\n"
   ]
  }
 ],
 "metadata": {
  "colab": {
   "collapsed_sections": [],
   "name": "60_Regressore.ipynb",
   "provenance": []
  },
  "kernelspec": {
   "display_name": "Python 3",
   "language": "python",
   "name": "python3"
  },
  "language_info": {
   "codemirror_mode": {
    "name": "ipython",
    "version": 3
   },
   "file_extension": ".py",
   "mimetype": "text/x-python",
   "name": "python",
   "nbconvert_exporter": "python",
   "pygments_lexer": "ipython3",
   "version": "3.8.5"
  }
 },
 "nbformat": 4,
 "nbformat_minor": 1
}
