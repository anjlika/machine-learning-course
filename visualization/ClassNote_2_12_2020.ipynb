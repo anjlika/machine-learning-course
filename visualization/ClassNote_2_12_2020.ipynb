{
  "nbformat": 4,
  "nbformat_minor": 0,
  "metadata": {
    "colab": {
      "name": "ClassNote-2-12-2020.ipynb",
      "provenance": [],
      "collapsed_sections": [],
      "include_colab_link": true
    },
    "kernelspec": {
      "name": "python3",
      "display_name": "Python 3"
    }
  },
  "cells": [
    {
      "cell_type": "markdown",
      "metadata": {
        "id": "view-in-github",
        "colab_type": "text"
      },
      "source": [
        "<a href=\"https://colab.research.google.com/github/visiont3lab/machine-learning-course/blob/main/visualization/ClassNote_2_12_2020.ipynb\" target=\"_parent\"><img src=\"https://colab.research.google.com/assets/colab-badge.svg\" alt=\"Open In Colab\"/></a>"
      ]
    },
    {
      "cell_type": "code",
      "metadata": {
        "id": "LBrI_eMN4rlS"
      },
      "source": [
        "%load_ext google.colab.data_table\n",
        "import pandas as pd\n",
        "import numpy as np\n",
        "dati_italia = \"https://raw.githubusercontent.com/pcm-dpc/COVID-19/master/dati-andamento-nazionale/dpc-covid19-ita-andamento-nazionale.csv\"\n",
        "data = pd.read_csv(dati_italia)"
      ],
      "execution_count": null,
      "outputs": []
    },
    {
      "cell_type": "code",
      "metadata": {
        "colab": {
          "base_uri": "https://localhost:8080/",
          "height": 279
        },
        "id": "yaAYjhaF45Ea",
        "outputId": "defcf0e3-8937-455e-fb77-36fa2462d594"
      },
      "source": [
        "data.head()"
      ],
      "execution_count": null,
      "outputs": [
        {
          "output_type": "execute_result",
          "data": {
            "application/vnd.google.colaboratory.module+javascript": "\n      import \"https://ssl.gstatic.com/colaboratory/data_table/a6224c040fa35dcf/data_table.js\";\n\n      window.createDataTable({\n        data: [[{\n            'v': 0,\n            'f': \"0\",\n        },\n\"2020-02-24T18:00:00\",\n\"ITA\",\n{\n            'v': 101,\n            'f': \"101\",\n        },\n{\n            'v': 26,\n            'f': \"26\",\n        },\n{\n            'v': 127,\n            'f': \"127\",\n        },\n{\n            'v': 94,\n            'f': \"94\",\n        },\n{\n            'v': 221,\n            'f': \"221\",\n        },\n{\n            'v': 0,\n            'f': \"0\",\n        },\n{\n            'v': 221,\n            'f': \"221\",\n        },\n{\n            'v': 1,\n            'f': \"1\",\n        },\n{\n            'v': 7,\n            'f': \"7\",\n        },\n{\n            'v': NaN,\n            'f': \"NaN\",\n        },\n{\n            'v': NaN,\n            'f': \"NaN\",\n        },\n{\n            'v': 229,\n            'f': \"229\",\n        },\n{\n            'v': 4324,\n            'f': \"4324\",\n        },\n{\n            'v': NaN,\n            'f': \"NaN\",\n        },\n{\n            'v': NaN,\n            'f': \"NaN\",\n        }],\n [{\n            'v': 1,\n            'f': \"1\",\n        },\n\"2020-02-25T18:00:00\",\n\"ITA\",\n{\n            'v': 114,\n            'f': \"114\",\n        },\n{\n            'v': 35,\n            'f': \"35\",\n        },\n{\n            'v': 150,\n            'f': \"150\",\n        },\n{\n            'v': 162,\n            'f': \"162\",\n        },\n{\n            'v': 311,\n            'f': \"311\",\n        },\n{\n            'v': 90,\n            'f': \"90\",\n        },\n{\n            'v': 93,\n            'f': \"93\",\n        },\n{\n            'v': 1,\n            'f': \"1\",\n        },\n{\n            'v': 10,\n            'f': \"10\",\n        },\n{\n            'v': NaN,\n            'f': \"NaN\",\n        },\n{\n            'v': NaN,\n            'f': \"NaN\",\n        },\n{\n            'v': 322,\n            'f': \"322\",\n        },\n{\n            'v': 8623,\n            'f': \"8623\",\n        },\n{\n            'v': NaN,\n            'f': \"NaN\",\n        },\n{\n            'v': NaN,\n            'f': \"NaN\",\n        }],\n [{\n            'v': 2,\n            'f': \"2\",\n        },\n\"2020-02-26T18:00:00\",\n\"ITA\",\n{\n            'v': 128,\n            'f': \"128\",\n        },\n{\n            'v': 36,\n            'f': \"36\",\n        },\n{\n            'v': 164,\n            'f': \"164\",\n        },\n{\n            'v': 221,\n            'f': \"221\",\n        },\n{\n            'v': 385,\n            'f': \"385\",\n        },\n{\n            'v': 74,\n            'f': \"74\",\n        },\n{\n            'v': 78,\n            'f': \"78\",\n        },\n{\n            'v': 3,\n            'f': \"3\",\n        },\n{\n            'v': 12,\n            'f': \"12\",\n        },\n{\n            'v': NaN,\n            'f': \"NaN\",\n        },\n{\n            'v': NaN,\n            'f': \"NaN\",\n        },\n{\n            'v': 400,\n            'f': \"400\",\n        },\n{\n            'v': 9587,\n            'f': \"9587\",\n        },\n{\n            'v': NaN,\n            'f': \"NaN\",\n        },\n{\n            'v': NaN,\n            'f': \"NaN\",\n        }],\n [{\n            'v': 3,\n            'f': \"3\",\n        },\n\"2020-02-27T18:00:00\",\n\"ITA\",\n{\n            'v': 248,\n            'f': \"248\",\n        },\n{\n            'v': 56,\n            'f': \"56\",\n        },\n{\n            'v': 304,\n            'f': \"304\",\n        },\n{\n            'v': 284,\n            'f': \"284\",\n        },\n{\n            'v': 588,\n            'f': \"588\",\n        },\n{\n            'v': 203,\n            'f': \"203\",\n        },\n{\n            'v': 250,\n            'f': \"250\",\n        },\n{\n            'v': 45,\n            'f': \"45\",\n        },\n{\n            'v': 17,\n            'f': \"17\",\n        },\n{\n            'v': NaN,\n            'f': \"NaN\",\n        },\n{\n            'v': NaN,\n            'f': \"NaN\",\n        },\n{\n            'v': 650,\n            'f': \"650\",\n        },\n{\n            'v': 12014,\n            'f': \"12014\",\n        },\n{\n            'v': NaN,\n            'f': \"NaN\",\n        },\n{\n            'v': NaN,\n            'f': \"NaN\",\n        }],\n [{\n            'v': 4,\n            'f': \"4\",\n        },\n\"2020-02-28T18:00:00\",\n\"ITA\",\n{\n            'v': 345,\n            'f': \"345\",\n        },\n{\n            'v': 64,\n            'f': \"64\",\n        },\n{\n            'v': 409,\n            'f': \"409\",\n        },\n{\n            'v': 412,\n            'f': \"412\",\n        },\n{\n            'v': 821,\n            'f': \"821\",\n        },\n{\n            'v': 233,\n            'f': \"233\",\n        },\n{\n            'v': 238,\n            'f': \"238\",\n        },\n{\n            'v': 46,\n            'f': \"46\",\n        },\n{\n            'v': 21,\n            'f': \"21\",\n        },\n{\n            'v': NaN,\n            'f': \"NaN\",\n        },\n{\n            'v': NaN,\n            'f': \"NaN\",\n        },\n{\n            'v': 888,\n            'f': \"888\",\n        },\n{\n            'v': 15695,\n            'f': \"15695\",\n        },\n{\n            'v': NaN,\n            'f': \"NaN\",\n        },\n{\n            'v': NaN,\n            'f': \"NaN\",\n        }]],\n        columns: [[\"number\", \"index\"], [\"string\", \"data\"], [\"string\", \"stato\"], [\"number\", \"ricoverati_con_sintomi\"], [\"number\", \"terapia_intensiva\"], [\"number\", \"totale_ospedalizzati\"], [\"number\", \"isolamento_domiciliare\"], [\"number\", \"totale_positivi\"], [\"number\", \"variazione_totale_positivi\"], [\"number\", \"nuovi_positivi\"], [\"number\", \"dimessi_guariti\"], [\"number\", \"deceduti\"], [\"number\", \"casi_da_sospetto_diagnostico\"], [\"number\", \"casi_da_screening\"], [\"number\", \"totale_casi\"], [\"number\", \"tamponi\"], [\"number\", \"casi_testati\"], [\"number\", \"note\"]],\n        columnOptions: [{\"width\": \"1px\", \"className\": \"index_column\"}],\n        rowsPerPage: 25,\n        helpUrl: \"https://colab.research.google.com/notebooks/data_table.ipynb\",\n        suppressOutputScrolling: true,\n        minimumWidth: undefined,\n      });\n    ",
            "text/html": [
              "<div>\n",
              "<style scoped>\n",
              "    .dataframe tbody tr th:only-of-type {\n",
              "        vertical-align: middle;\n",
              "    }\n",
              "\n",
              "    .dataframe tbody tr th {\n",
              "        vertical-align: top;\n",
              "    }\n",
              "\n",
              "    .dataframe thead th {\n",
              "        text-align: right;\n",
              "    }\n",
              "</style>\n",
              "<table border=\"1\" class=\"dataframe\">\n",
              "  <thead>\n",
              "    <tr style=\"text-align: right;\">\n",
              "      <th></th>\n",
              "      <th>data</th>\n",
              "      <th>stato</th>\n",
              "      <th>ricoverati_con_sintomi</th>\n",
              "      <th>terapia_intensiva</th>\n",
              "      <th>totale_ospedalizzati</th>\n",
              "      <th>isolamento_domiciliare</th>\n",
              "      <th>totale_positivi</th>\n",
              "      <th>variazione_totale_positivi</th>\n",
              "      <th>nuovi_positivi</th>\n",
              "      <th>dimessi_guariti</th>\n",
              "      <th>deceduti</th>\n",
              "      <th>casi_da_sospetto_diagnostico</th>\n",
              "      <th>casi_da_screening</th>\n",
              "      <th>totale_casi</th>\n",
              "      <th>tamponi</th>\n",
              "      <th>casi_testati</th>\n",
              "      <th>note</th>\n",
              "    </tr>\n",
              "  </thead>\n",
              "  <tbody>\n",
              "    <tr>\n",
              "      <th>0</th>\n",
              "      <td>2020-02-24T18:00:00</td>\n",
              "      <td>ITA</td>\n",
              "      <td>101</td>\n",
              "      <td>26</td>\n",
              "      <td>127</td>\n",
              "      <td>94</td>\n",
              "      <td>221</td>\n",
              "      <td>0</td>\n",
              "      <td>221</td>\n",
              "      <td>1</td>\n",
              "      <td>7</td>\n",
              "      <td>NaN</td>\n",
              "      <td>NaN</td>\n",
              "      <td>229</td>\n",
              "      <td>4324</td>\n",
              "      <td>NaN</td>\n",
              "      <td>NaN</td>\n",
              "    </tr>\n",
              "    <tr>\n",
              "      <th>1</th>\n",
              "      <td>2020-02-25T18:00:00</td>\n",
              "      <td>ITA</td>\n",
              "      <td>114</td>\n",
              "      <td>35</td>\n",
              "      <td>150</td>\n",
              "      <td>162</td>\n",
              "      <td>311</td>\n",
              "      <td>90</td>\n",
              "      <td>93</td>\n",
              "      <td>1</td>\n",
              "      <td>10</td>\n",
              "      <td>NaN</td>\n",
              "      <td>NaN</td>\n",
              "      <td>322</td>\n",
              "      <td>8623</td>\n",
              "      <td>NaN</td>\n",
              "      <td>NaN</td>\n",
              "    </tr>\n",
              "    <tr>\n",
              "      <th>2</th>\n",
              "      <td>2020-02-26T18:00:00</td>\n",
              "      <td>ITA</td>\n",
              "      <td>128</td>\n",
              "      <td>36</td>\n",
              "      <td>164</td>\n",
              "      <td>221</td>\n",
              "      <td>385</td>\n",
              "      <td>74</td>\n",
              "      <td>78</td>\n",
              "      <td>3</td>\n",
              "      <td>12</td>\n",
              "      <td>NaN</td>\n",
              "      <td>NaN</td>\n",
              "      <td>400</td>\n",
              "      <td>9587</td>\n",
              "      <td>NaN</td>\n",
              "      <td>NaN</td>\n",
              "    </tr>\n",
              "    <tr>\n",
              "      <th>3</th>\n",
              "      <td>2020-02-27T18:00:00</td>\n",
              "      <td>ITA</td>\n",
              "      <td>248</td>\n",
              "      <td>56</td>\n",
              "      <td>304</td>\n",
              "      <td>284</td>\n",
              "      <td>588</td>\n",
              "      <td>203</td>\n",
              "      <td>250</td>\n",
              "      <td>45</td>\n",
              "      <td>17</td>\n",
              "      <td>NaN</td>\n",
              "      <td>NaN</td>\n",
              "      <td>650</td>\n",
              "      <td>12014</td>\n",
              "      <td>NaN</td>\n",
              "      <td>NaN</td>\n",
              "    </tr>\n",
              "    <tr>\n",
              "      <th>4</th>\n",
              "      <td>2020-02-28T18:00:00</td>\n",
              "      <td>ITA</td>\n",
              "      <td>345</td>\n",
              "      <td>64</td>\n",
              "      <td>409</td>\n",
              "      <td>412</td>\n",
              "      <td>821</td>\n",
              "      <td>233</td>\n",
              "      <td>238</td>\n",
              "      <td>46</td>\n",
              "      <td>21</td>\n",
              "      <td>NaN</td>\n",
              "      <td>NaN</td>\n",
              "      <td>888</td>\n",
              "      <td>15695</td>\n",
              "      <td>NaN</td>\n",
              "      <td>NaN</td>\n",
              "    </tr>\n",
              "  </tbody>\n",
              "</table>\n",
              "</div>"
            ],
            "text/plain": [
              "                  data stato  ...  casi_testati  note\n",
              "0  2020-02-24T18:00:00   ITA  ...           NaN   NaN\n",
              "1  2020-02-25T18:00:00   ITA  ...           NaN   NaN\n",
              "2  2020-02-26T18:00:00   ITA  ...           NaN   NaN\n",
              "3  2020-02-27T18:00:00   ITA  ...           NaN   NaN\n",
              "4  2020-02-28T18:00:00   ITA  ...           NaN   NaN\n",
              "\n",
              "[5 rows x 17 columns]"
            ]
          },
          "metadata": {
            "tags": []
          },
          "execution_count": 4
        }
      ]
    },
    {
      "cell_type": "code",
      "metadata": {
        "id": "bYzUf8lP450d"
      },
      "source": [
        "dimessi guariti, deceduti, totale positivi"
      ],
      "execution_count": null,
      "outputs": []
    },
    {
      "cell_type": "code",
      "metadata": {
        "colab": {
          "base_uri": "https://localhost:8080/",
          "height": 471
        },
        "id": "Af9h-afy5k0Z",
        "outputId": "722b2406-7952-44d9-f96f-bd4173ca102a"
      },
      "source": [
        "from matplotlib import pyplot as plt\n",
        "from datetime import datetime\n",
        "l = [\"data\",\"dimessi_guariti\",\"deceduti\",\"totale_positivi\"]\n",
        "dn = data[l]\n",
        "#dn.set_index(\"data\").plot(kind=\"line\", figsize=(15,8))\n",
        "\n",
        "\n",
        "# Conversion String to Datetime\n",
        "listaDate = pd.to_datetime(data[\"data\"], format='%Y-%m-%dT%H:%M:%S', errors='ignore') # pandas timestamp datetime\n",
        "listDatetime = [d.to_pydatetime() for d in listaDate.tolist()]\n",
        "#dn.insert(1,column=\"datanew\",value=)\n",
        "\n",
        "dn[\"data\"] = listDatetime\n",
        "'''\n",
        "lnew = []\n",
        "for el in listDatetime:\n",
        "  lnew.append(el.strftime(\"%m-%d\"))\n",
        "dn[\"data\"] = lnew\n",
        "'''\n",
        "\n",
        "dn.set_index(\"data\").plot(kind=\"line\")\n"
      ],
      "execution_count": null,
      "outputs": [
        {
          "output_type": "stream",
          "text": [
            "/usr/local/lib/python3.6/dist-packages/ipykernel_launcher.py:13: SettingWithCopyWarning: \n",
            "A value is trying to be set on a copy of a slice from a DataFrame.\n",
            "Try using .loc[row_indexer,col_indexer] = value instead\n",
            "\n",
            "See the caveats in the documentation: https://pandas.pydata.org/pandas-docs/stable/user_guide/indexing.html#returning-a-view-versus-a-copy\n",
            "  del sys.path[0]\n"
          ],
          "name": "stderr"
        },
        {
          "output_type": "execute_result",
          "data": {
            "text/plain": [
              "<matplotlib.axes._subplots.AxesSubplot at 0x7fd162d54438>"
            ]
          },
          "metadata": {
            "tags": []
          },
          "execution_count": 66
        },
        {
          "output_type": "display_data",
          "data": {
            "image/png": "[encoded data removed]",
            "text/plain": [
              "<Figure size 576x396 with 1 Axes>"
            ]
          },
          "metadata": {
            "tags": []
          }
        }
      ]
    },
    {
      "cell_type": "code",
      "metadata": {
        "colab": {
          "base_uri": "https://localhost:8080/",
          "height": 87
        },
        "id": "66CnqOSwBjug",
        "outputId": "8d8f1619-f723-4e69-a27e-1a166a7554f8"
      },
      "source": [
        "dn[ (dn[\"data\"]==datetime(2020,12,1)) ]"
      ],
      "execution_count": null,
      "outputs": [
        {
          "output_type": "execute_result",
          "data": {
            "application/vnd.google.colaboratory.module+javascript": "\n      import \"https://ssl.gstatic.com/colaboratory/data_table/a6224c040fa35dcf/data_table.js\";\n\n      window.createDataTable({\n        data: [],\n        columns: [[\"number\", \"index\"], [\"number\", \"data\"], [\"number\", \"dimessi_guariti\"], [\"number\", \"deceduti\"], [\"number\", \"totale_positivi\"]],\n        columnOptions: [{\"width\": \"1px\", \"className\": \"index_column\"}],\n        rowsPerPage: 25,\n        helpUrl: \"https://colab.research.google.com/notebooks/data_table.ipynb\",\n        suppressOutputScrolling: true,\n        minimumWidth: undefined,\n      });\n    ",
            "text/html": [
              "<div>\n",
              "<style scoped>\n",
              "    .dataframe tbody tr th:only-of-type {\n",
              "        vertical-align: middle;\n",
              "    }\n",
              "\n",
              "    .dataframe tbody tr th {\n",
              "        vertical-align: top;\n",
              "    }\n",
              "\n",
              "    .dataframe thead th {\n",
              "        text-align: right;\n",
              "    }\n",
              "</style>\n",
              "<table border=\"1\" class=\"dataframe\">\n",
              "  <thead>\n",
              "    <tr style=\"text-align: right;\">\n",
              "      <th></th>\n",
              "      <th>data</th>\n",
              "      <th>dimessi_guariti</th>\n",
              "      <th>deceduti</th>\n",
              "      <th>totale_positivi</th>\n",
              "    </tr>\n",
              "  </thead>\n",
              "  <tbody>\n",
              "  </tbody>\n",
              "</table>\n",
              "</div>"
            ],
            "text/plain": [
              "Empty DataFrame\n",
              "Columns: [data, dimessi_guariti, deceduti, totale_positivi]\n",
              "Index: []"
            ]
          },
          "metadata": {
            "tags": []
          },
          "execution_count": 65
        }
      ]
    },
    {
      "cell_type": "code",
      "metadata": {
        "colab": {
          "base_uri": "https://localhost:8080/"
        },
        "id": "hVd1UVsL-Ix_",
        "outputId": "c03c8c2d-50c6-451f-c145-ab8963bee866"
      },
      "source": [
        "datetime(2020,10,4)"
      ],
      "execution_count": null,
      "outputs": [
        {
          "output_type": "execute_result",
          "data": {
            "text/plain": [
              "datetime.datetime(2020, 10, 4, 0, 0)"
            ]
          },
          "metadata": {
            "tags": []
          },
          "execution_count": 32
        }
      ]
    },
    {
      "cell_type": "code",
      "metadata": {
        "colab": {
          "base_uri": "https://localhost:8080/",
          "height": 400
        },
        "id": "ZDdCK4A766q4",
        "outputId": "a4da924a-3de9-44b6-dc12-816704a9597b"
      },
      "source": [
        "%load_ext google.colab.data_table \n",
        "import pandas as pd \n",
        "import numpy as np \n",
        "from matplotlib import pyplot as plt \n",
        "dati_italia = \"https://raw.githubusercontent.com/pcm-dpc/COVID-19/master/dati-andamento-nazionale/dpc-covid19-ita-andamento-nazionale.csv\" \n",
        "data = pd.read_csv(dati_italia) \n",
        "small_data = data[[\"data\",\"dimessi_guariti\",\"deceduti\",\"totale_positivi\"]] \n",
        "\n",
        "X = small_data[\"data\"].tolist()\n",
        "Y1 = small_data[\"deceduti\"].tolist()\n",
        "Y2 = small_data[\"dimessi_guariti\"].tolist()\n",
        "Y3 = small_data[\"totale_positivi\"].tolist()\n",
        "\n",
        "plt.plot(X,Y)\n",
        "plt.plot(X,Y1)\n",
        "plt.plot(X,Y2)\n",
        "plt.plot(X,Y3)\n"
      ],
      "execution_count": null,
      "outputs": [
        {
          "output_type": "stream",
          "text": [
            "The google.colab.data_table extension is already loaded. To reload it, use:\n",
            "  %reload_ext google.colab.data_table\n"
          ],
          "name": "stdout"
        },
        {
          "output_type": "execute_result",
          "data": {
            "text/plain": [
              "[<matplotlib.lines.Line2D at 0x7fd164403cf8>]"
            ]
          },
          "metadata": {
            "tags": []
          },
          "execution_count": 16
        },
        {
          "output_type": "display_data",
          "data": {
            "image/png": "[encoded data removed]",
            "text/plain": [
              "<Figure size 576x396 with 1 Axes>"
            ]
          },
          "metadata": {
            "tags": []
          }
        }
      ]
    },
    {
      "cell_type": "code",
      "metadata": {
        "id": "ebHXPIHV7Jk-"
      },
      "source": [
        ""
      ],
      "execution_count": null,
      "outputs": []
    }
  ]
}